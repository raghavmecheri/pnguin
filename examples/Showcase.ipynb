{
 "cells": [
  {
   "cell_type": "markdown",
   "metadata": {},
   "source": [
    "# Feature showcase\n",
    "This notebook is meant to convince you that [pnguin](https://github.com/raghavmecheri/pnguin) isn't totally useless, and is actually pretty cool. Below, you'll find a set of my favourite pnguin features, along with small example code snippets for the same "
   ]
  },
  {
   "cell_type": "code",
   "execution_count": 1,
   "metadata": {},
   "outputs": [],
   "source": [
    "import sys\n",
    "import os\n",
    "sys.path.insert(0, os.path.join(os.getcwd(), \"../\"))\n",
    "\n",
    "import pnguin as pg\n",
    "\n",
    "from pnguin.connectors import mysql_conn"
   ]
  },
  {
   "cell_type": "markdown",
   "metadata": {},
   "source": [
    "### Setting up some demo Frames"
   ]
  },
  {
   "cell_type": "code",
   "execution_count": 2,
   "metadata": {},
   "outputs": [],
   "source": [
    "csv_file = os.path.join(os.getcwd(), \"../test/data/noheaderdata.csv\")\n",
    "\n",
    "row_df = pg.read_csv(path=csv_file, axis=\"row\", headers=[\"Name\", \"Age\", \"Feature 1\", \"Feature 2\", \"Feature 3\"])\n",
    "col_df = pg.read_csv(path=csv_file, axis=\"col\", headers=[\"Name\", \"Age\", \"Feature 1\", \"Feature 2\", \"Feature 3\"])\n",
    "\n",
    "sql_df = pg.SQLFrame(connection=mysql_conn(), table_name=\"advisor\")"
   ]
  },
  {
   "cell_type": "markdown",
   "metadata": {},
   "source": [
    "## pnguin lets you index data from either axis!\n",
    "Specifying an `axis` parameter lets you choose which axis for which the operations will be optimised, but pnguin performs operations on either axis regardless"
   ]
  },
  {
   "cell_type": "markdown",
   "metadata": {},
   "source": [
    "#### Getting the first row from either the `row_df`, or the `col_df`"
   ]
  },
  {
   "cell_type": "code",
   "execution_count": 3,
   "metadata": {},
   "outputs": [
    {
     "data": {
      "text/plain": [
       "[{'Name': 'Raghav',\n",
       "  'Age': '20',\n",
       "  'Feature 1': 'a',\n",
       "  'Feature 2': 'b',\n",
       "  'Feature 3': 'c'}]"
      ]
     },
     "execution_count": 3,
     "metadata": {},
     "output_type": "execute_result"
    }
   ],
   "source": [
    "row_df[0]"
   ]
  },
  {
   "cell_type": "code",
   "execution_count": 4,
   "metadata": {},
   "outputs": [
    {
     "name": "stdout",
     "output_type": "stream",
     "text": [
      "Warning: Please use a string value to signify a column name when your pnguin DataFrame is in column mode! Pnguin auto-handles this, but this could take a second for larger datasets\n"
     ]
    },
    {
     "data": {
      "text/plain": [
       "{'Name': 'Raghav',\n",
       " 'Age': '20',\n",
       " 'Feature 1': 'a',\n",
       " 'Feature 2': 'b',\n",
       " 'Feature 3': 'c'}"
      ]
     },
     "execution_count": 4,
     "metadata": {},
     "output_type": "execute_result"
    }
   ],
   "source": [
    "col_df[0]"
   ]
  },
  {
   "cell_type": "markdown",
   "metadata": {},
   "source": [
    "#### Getting a column from either the `row_df`, or the `col_df`"
   ]
  },
  {
   "cell_type": "code",
   "execution_count": 5,
   "metadata": {},
   "outputs": [
    {
     "name": "stdout",
     "output_type": "stream",
     "text": [
      "Warning: Please use an integer value or an integer slice to select row(s) when your pnguin DataFrame is in row mode! Pnguin auto-handles this, but this could take a second for larger datasets\n"
     ]
    },
    {
     "data": {
      "text/plain": [
       "['Raghav', 'Raghav2', 'Raghav3', 'Raghav4', 'Raghav5']"
      ]
     },
     "execution_count": 5,
     "metadata": {},
     "output_type": "execute_result"
    }
   ],
   "source": [
    "row_df[\"Name\"]"
   ]
  },
  {
   "cell_type": "code",
   "execution_count": 6,
   "metadata": {},
   "outputs": [
    {
     "data": {
      "text/plain": [
       "['Raghav', 'Raghav2', 'Raghav3', 'Raghav4', 'Raghav5']"
      ]
     },
     "execution_count": 6,
     "metadata": {},
     "output_type": "execute_result"
    }
   ],
   "source": [
    "col_df[\"Name\"]"
   ]
  },
  {
   "cell_type": "markdown",
   "metadata": {},
   "source": [
    "## Assign to a DataFrame just like you would a list or dictionary"
   ]
  },
  {
   "cell_type": "code",
   "execution_count": 7,
   "metadata": {},
   "outputs": [
    {
     "name": "stdout",
     "output_type": "stream",
     "text": [
      "Name        Age  Feature 1    Feature 2    Feature 3\n",
      "--------  -----  -----------  -----------  -----------\n",
      "Raghav22    100  a            a            a\n",
      "Raghav2      21  a            b            c\n",
      "Raghav3      19  a            d            c\n",
      "Raghav4      22  d            b            c\n",
      "Raghav5      21  aaaa         b            e\n"
     ]
    }
   ],
   "source": [
    "row_df[0] = {\"Name\": \"Raghav22\", \"Age\": \"100\", 'Feature 1': 'a', 'Feature 2': 'a', 'Feature 3': 'a'}\n",
    "print(row_df)"
   ]
  },
  {
   "cell_type": "markdown",
   "metadata": {},
   "source": [
    "## Data filters, done right\n",
    "#### For more examples, check [this](hello) out"
   ]
  },
  {
   "cell_type": "code",
   "execution_count": 8,
   "metadata": {},
   "outputs": [
    {
     "name": "stdout",
     "output_type": "stream",
     "text": [
      "Name       Age  Feature 1    Feature 2    Feature 3\n",
      "-------  -----  -----------  -----------  -----------\n",
      "Raghav2     21  a            b            c\n",
      "Raghav3     19  a            d            c\n"
     ]
    }
   ],
   "source": [
    "row_df = row_df.filter(pg.Filter(\"Name\", \"IN\", [\"Raghav2\", \"Raghav3\"]))\n",
    "print(row_df)"
   ]
  },
  {
   "cell_type": "markdown",
   "metadata": {},
   "source": [
    "## You can also add a second filter to a DataFrame!"
   ]
  },
  {
   "cell_type": "code",
   "execution_count": 9,
   "metadata": {},
   "outputs": [
    {
     "name": "stdout",
     "output_type": "stream",
     "text": [
      "Name       Age  Feature 1    Feature 2    Feature 3\n",
      "-------  -----  -----------  -----------  -----------\n",
      "Raghav2     21  a            b            c\n"
     ]
    }
   ],
   "source": [
    "row_df = row_df.filter(pg.Filter(\"Age\", \">\", \"20\"))\n",
    "print(row_df)"
   ]
  },
  {
   "cell_type": "markdown",
   "metadata": {},
   "source": [
    "## Do all this, but with remote data as well :)\n",
    "#### For more examples, check [this](./SQLFrame/SQLFrameOperations.ipynb) out"
   ]
  },
  {
   "cell_type": "code",
   "execution_count": 10,
   "metadata": {},
   "outputs": [
    {
     "data": {
      "text/plain": [
       "  s_ID    i_ID\n",
       "------  ------\n",
       " 12345   10101\n",
       " 44553   22222\n",
       " 45678   22222\n",
       " 00128   45565\n",
       " 76543   45565"
      ]
     },
     "execution_count": 10,
     "metadata": {},
     "output_type": "execute_result"
    }
   ],
   "source": [
    "sql_df.head()"
   ]
  },
  {
   "cell_type": "code",
   "execution_count": 11,
   "metadata": {},
   "outputs": [],
   "source": [
    "sql_df.filter(pg.Filter(\"s_ID\", \">\", 12345))"
   ]
  },
  {
   "cell_type": "code",
   "execution_count": 12,
   "metadata": {},
   "outputs": [
    {
     "data": {
      "text/plain": [
       "  s_ID    i_ID\n",
       "------  ------\n",
       " 44553   22222\n",
       " 45678   22222\n",
       " 76543   45565\n",
       " 23121   76543\n",
       " 98988   76766"
      ]
     },
     "execution_count": 12,
     "metadata": {},
     "output_type": "execute_result"
    }
   ],
   "source": [
    "sql_df.head()"
   ]
  }
 ],
 "metadata": {
  "kernelspec": {
   "display_name": "Python 3",
   "language": "python",
   "name": "python3"
  },
  "language_info": {
   "codemirror_mode": {
    "name": "ipython",
    "version": 3
   },
   "file_extension": ".py",
   "mimetype": "text/x-python",
   "name": "python",
   "nbconvert_exporter": "python",
   "pygments_lexer": "ipython3",
   "version": "3.8.3"
  }
 },
 "nbformat": 4,
 "nbformat_minor": 4
}
