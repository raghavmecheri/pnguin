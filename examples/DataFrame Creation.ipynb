{
 "cells": [
  {
   "cell_type": "markdown",
   "metadata": {},
   "source": [
    "# Creating DataFrames\n",
    "\n",
    "#### Good ol PYTHONPATH fix, details [here](https://stackoverflow.com/questions/16114391/adding-directory-to-sys-path-pythonpath)"
   ]
  },
  {
   "cell_type": "code",
   "execution_count": 1,
   "metadata": {},
   "outputs": [],
   "source": [
    "import sys\n",
    "import os\n",
    "sys.path.insert(0, os.path.join(os.getcwd(), \"../\"))"
   ]
  },
  {
   "cell_type": "code",
   "execution_count": 2,
   "metadata": {},
   "outputs": [],
   "source": [
    "import pnguin as pg"
   ]
  },
  {
   "cell_type": "markdown",
   "metadata": {},
   "source": [
    "## Creating some mock data"
   ]
  },
  {
   "cell_type": "code",
   "execution_count": 5,
   "metadata": {},
   "outputs": [],
   "source": [
    "ld = [{\"name\": \"Raghav\", \"info\": \"idk\"}, {\"name\": \"Someone Else\", \"info\": \"Something else?\"}]\n",
    "dl = {\"name\": [\"Raghav\", \"Someone Else\"], \"info\": [\"idk\", \"Something else?\"]}\n",
    "header_csv = os.path.join(os.getcwd(), \"../test/data/headerdata.csv\")\n",
    "no_header_csv = os.path.join(os.getcwd(), \"../test/data/noheaderdata.csv\")"
   ]
  },
  {
   "cell_type": "markdown",
   "metadata": {},
   "source": [
    "### pnguin supports two primary methodologies to create a DataFrame -- from a variable, or from a CSV file. I've decided to stop with these two for now because to be honest, they're the two most common data sources I use. If you would like to introduce another source, please feel free to open a [PR](https://github.com/raghavmecheri/pnguin/pulls)\n",
    "\n",
    "Note: The point of this library is to keep it lightweight and minimalist! So if you want an alternate datasource that already can pull data out as say, a list of dicts (or a dict of lists!) an extra line to your source code isn't always the worst thing :)"
   ]
  },
  {
   "cell_type": "markdown",
   "metadata": {},
   "source": [
    "## From a list of dicts (or a dict of lists!)"
   ]
  },
  {
   "cell_type": "code",
   "execution_count": 6,
   "metadata": {},
   "outputs": [],
   "source": [
    "df = pg.DataFrame(ld, axis=\"row\")"
   ]
  },
  {
   "cell_type": "code",
   "execution_count": 7,
   "metadata": {},
   "outputs": [
    {
     "data": {
      "text/plain": [
       "name          info\n",
       "------------  ---------------\n",
       "Raghav        idk\n",
       "Someone Else  Something else?"
      ]
     },
     "execution_count": 7,
     "metadata": {},
     "output_type": "execute_result"
    }
   ],
   "source": [
    "df.head()"
   ]
  },
  {
   "cell_type": "code",
   "execution_count": 8,
   "metadata": {},
   "outputs": [],
   "source": [
    "df = pg.DataFrame(dl, axis=\"col\")"
   ]
  },
  {
   "cell_type": "code",
   "execution_count": 9,
   "metadata": {},
   "outputs": [
    {
     "data": {
      "text/plain": [
       "name          info\n",
       "------------  ---------------\n",
       "Raghav        idk\n",
       "Someone Else  Something else?"
      ]
     },
     "execution_count": 9,
     "metadata": {},
     "output_type": "execute_result"
    }
   ],
   "source": [
    "df.head()"
   ]
  },
  {
   "cell_type": "markdown",
   "metadata": {},
   "source": [
    "### You can also give pnguin data in row format (list of dicts) and specify a column-axis -- it'll just convert the data for you!"
   ]
  },
  {
   "cell_type": "code",
   "execution_count": 10,
   "metadata": {},
   "outputs": [],
   "source": [
    "df = pg.DataFrame(ld, axis=\"col\")"
   ]
  },
  {
   "cell_type": "code",
   "execution_count": 11,
   "metadata": {},
   "outputs": [
    {
     "data": {
      "text/plain": [
       "name          info\n",
       "------------  ---------------\n",
       "Raghav        idk\n",
       "Someone Else  Something else?"
      ]
     },
     "execution_count": 11,
     "metadata": {},
     "output_type": "execute_result"
    }
   ],
   "source": [
    "df"
   ]
  },
  {
   "cell_type": "markdown",
   "metadata": {},
   "source": [
    "## From a CSV file"
   ]
  },
  {
   "cell_type": "markdown",
   "metadata": {},
   "source": [
    "### CSV files both with and without headers work -- pnguin assumes that the first row's a header"
   ]
  },
  {
   "cell_type": "markdown",
   "metadata": {},
   "source": [
    "### If you have a CSV file with headers, it's easy"
   ]
  },
  {
   "cell_type": "code",
   "execution_count": 14,
   "metadata": {},
   "outputs": [],
   "source": [
    "df = pg.read_csv(header_csv)"
   ]
  },
  {
   "cell_type": "code",
   "execution_count": 15,
   "metadata": {},
   "outputs": [
    {
     "data": {
      "text/plain": [
       "﻿Name      Age  Something    Something2    Something3\n",
       "-------  -----  -----------  ------------  ------------\n",
       "Raghav      20  a            b             c\n",
       "Raghav2     21  a            b             c\n",
       "Raghav3     19  a            d             c\n",
       "Raghav4     22  d            b             c\n",
       "Raghav5     21  aaaa         b             e"
      ]
     },
     "execution_count": 15,
     "metadata": {},
     "output_type": "execute_result"
    }
   ],
   "source": [
    "df.head()"
   ]
  },
  {
   "cell_type": "markdown",
   "metadata": {},
   "source": [
    "### If you have a CSV file without headers, you can also pass an array of headers in"
   ]
  },
  {
   "cell_type": "code",
   "execution_count": 16,
   "metadata": {},
   "outputs": [],
   "source": [
    "df = pg.read_csv(no_header_csv, headers=[\"Name\", \"Age\", \"Something\", \"Something2\", \"Something3\"])"
   ]
  },
  {
   "cell_type": "code",
   "execution_count": 17,
   "metadata": {},
   "outputs": [
    {
     "data": {
      "text/plain": [
       "Name       Age  Something    Something2    Something3\n",
       "-------  -----  -----------  ------------  ------------\n",
       "﻿Raghav     20  a            b             c\n",
       "Raghav2     21  a            b             c\n",
       "Raghav3     19  a            d             c\n",
       "Raghav4     22  d            b             c\n",
       "Raghav5     21  aaaa         b             e"
      ]
     },
     "execution_count": 17,
     "metadata": {},
     "output_type": "execute_result"
    }
   ],
   "source": [
    "df.head()"
   ]
  }
 ],
 "metadata": {
  "kernelspec": {
   "display_name": "Python 3",
   "language": "python",
   "name": "python3"
  },
  "language_info": {
   "codemirror_mode": {
    "name": "ipython",
    "version": 3
   },
   "file_extension": ".py",
   "mimetype": "text/x-python",
   "name": "python",
   "nbconvert_exporter": "python",
   "pygments_lexer": "ipython3",
   "version": "3.8.3"
  }
 },
 "nbformat": 4,
 "nbformat_minor": 4
}
