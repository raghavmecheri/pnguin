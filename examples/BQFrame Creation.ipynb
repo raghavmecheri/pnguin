{
 "cells": [
  {
   "cell_type": "markdown",
   "metadata": {},
   "source": [
    "# Creating BQFrames\n",
    "\n",
    "#### Good ol PYTHONPATH fix, details [here](https://stackoverflow.com/questions/16114391/adding-directory-to-sys-path-pythonpath)"
   ]
  },
  {
   "cell_type": "code",
   "execution_count": 1,
   "metadata": {},
   "outputs": [],
   "source": [
    "import sys\n",
    "import os\n",
    "sys.path.insert(0, os.path.join(os.getcwd(), \"../\"))\n",
    "\n",
    "import pnguin as pg\n",
    "from pnguin.connectors import bigquery_conn"
   ]
  },
  {
   "cell_type": "markdown",
   "metadata": {},
   "source": [
    "### Creating a BigQuery connection with the default parameters.\n",
    "### Using a BigQuery [Public Data table](https://cloud.google.com/bigquery/public-data)"
   ]
  },
  {
   "cell_type": "code",
   "execution_count": 2,
   "metadata": {},
   "outputs": [],
   "source": [
    "bq_conn = bigquery_conn()"
   ]
  },
  {
   "cell_type": "code",
   "execution_count": 3,
   "metadata": {},
   "outputs": [],
   "source": [
    "bf = pg.BQFrame(connection=bq_conn, table_name='bigquery-public-data.samples.gsod')"
   ]
  },
  {
   "cell_type": "code",
   "execution_count": 4,
   "metadata": {},
   "outputs": [
    {
     "data": {
      "text/plain": [
       "  station_number    wban_number    year    month    day    mean_temp    num_mean_temp_samples    mean_dew_point    num_mean_dew_point_samples  mean_sealevel_pressure    num_mean_sealevel_pressure_samples    mean_station_pressure    num_mean_station_pressure_samples      mean_visibility    num_mean_visibility_samples    mean_wind_speed    num_mean_wind_speed_samples    max_sustained_wind_speed  max_gust_wind_speed      max_temperature  max_temperature_explicit    min_temperature    min_temperature_explicit      total_precipitation  snow_depth    fog    rain    snow    hail    thunder    tornado\n",
       "----------------  -------------  ------  -------  -----  -----------  -----------------------  ----------------  ----------------------------  ------------------------  ------------------------------------  -----------------------  -----------------------------------  -----------------  -----------------------------  -----------------  -----------------------------  --------------------------  ---------------------  -----------------  --------------------------  -----------------  --------------------------  ---------------------  ------------  -----  ------  ------  ------  ---------  ---------\n",
       "           38110          99999    1929       12     11         52.8                        4              48.5                             4                                                                                                                                              5.9                              4               35.4                              4                        43.9                                      48    False                                                                                                           False  False   False   False   False      False\n",
       "           30750          99999    1930        1     13         37.2                        4              34.5                             4                                                                                                                                             12.4                              4                9.2                              4                        13                                        35.1  False                                                                                       0                   False  False   False   False   False      False\n",
       "           36010          99999    1930       10      7         53                          4              51.3                             4                                                                                                                                              9.3                              4               10                                4                        13                                        52    False                                                                                                           False  False   False   False   False      False\n",
       "           39800          99999    1931        9      2         52.6                        5              51                               4                                                                                                                                              2.6                              5               16                                5                        18.1                                      52    False                                                                                       0.91                False  False   False   False   False      False\n",
       "          726810          24131    1931        9     18         67.4                       24              40.6                             8                                                                                                                                             28                               24                3.6                             24                         8.9                                      60.3  True                                                                                                            False  False   False   False   False      False"
      ]
     },
     "execution_count": 4,
     "metadata": {},
     "output_type": "execute_result"
    }
   ],
   "source": [
    "bf.head()"
   ]
  },
  {
   "cell_type": "code",
   "execution_count": null,
   "metadata": {},
   "outputs": [],
   "source": []
  }
 ],
 "metadata": {
  "kernelspec": {
   "display_name": "Python 3",
   "language": "python",
   "name": "python3"
  },
  "language_info": {
   "codemirror_mode": {
    "name": "ipython",
    "version": 3
   },
   "file_extension": ".py",
   "mimetype": "text/x-python",
   "name": "python",
   "nbconvert_exporter": "python",
   "pygments_lexer": "ipython3",
   "version": "3.8.3"
  }
 },
 "nbformat": 4,
 "nbformat_minor": 4
}
