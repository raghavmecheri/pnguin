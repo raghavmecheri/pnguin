{
 "cells": [
  {
   "cell_type": "markdown",
   "metadata": {},
   "source": [
    "# DataFrame Operations\n",
    "\n",
    "#### Good ol PYTHONPATH fix, details [here](https://stackoverflow.com/questions/16114391/adding-directory-to-sys-path-pythonpath)"
   ]
  },
  {
   "cell_type": "code",
   "execution_count": 5,
   "metadata": {},
   "outputs": [],
   "source": [
    "import sys\n",
    "import os\n",
    "sys.path.insert(0, os.path.join(os.getcwd(), \"../../\"))"
   ]
  },
  {
   "cell_type": "code",
   "execution_count": 6,
   "metadata": {},
   "outputs": [],
   "source": [
    "import pnguin as pg"
   ]
  },
  {
   "cell_type": "markdown",
   "metadata": {},
   "source": [
    "## Creating some mock data"
   ]
  },
  {
   "cell_type": "code",
   "execution_count": 21,
   "metadata": {},
   "outputs": [],
   "source": [
    "data = [{\"name\": \"Raghav\", \"info\": \"idk\", \"x\": 10},\n",
    "      {\"name\": \"Someone Else\", \"info\": \"Something else?\", \"x\": 20},\n",
    "      {\"name\": \"Someone Else Too\", \"info\": \"Something else??\", \"x\": 30},\n",
    "      {\"name\": \"Someone Else Here Too\", \"info\": \"Something else??!\", \"x\": 40}]"
   ]
  },
  {
   "cell_type": "markdown",
   "metadata": {},
   "source": [
    "## Loading up a DataFrame"
   ]
  },
  {
   "cell_type": "code",
   "execution_count": 22,
   "metadata": {},
   "outputs": [],
   "source": [
    "df = pg.DataFrame(data, axis=\"row\")"
   ]
  },
  {
   "cell_type": "code",
   "execution_count": 23,
   "metadata": {},
   "outputs": [
    {
     "data": {
      "text/plain": [
       "name                   info                 x\n",
       "---------------------  -----------------  ---\n",
       "Raghav                 idk                 10\n",
       "Someone Else           Something else?     20\n",
       "Someone Else Too       Something else??    30\n",
       "Someone Else Here Too  Something else??!   40"
      ]
     },
     "execution_count": 23,
     "metadata": {},
     "output_type": "execute_result"
    }
   ],
   "source": [
    "df.head()"
   ]
  },
  {
   "cell_type": "markdown",
   "metadata": {},
   "source": [
    "## pnguin allows you to apply an operation to every row or every column of a DataFrame"
   ]
  },
  {
   "cell_type": "code",
   "execution_count": 24,
   "metadata": {},
   "outputs": [],
   "source": [
    "def _multiply(row):\n",
    "    row[\"x\"] = row[\"x\"] * 10\n",
    "    return row\n",
    "\n",
    "df = df.apply(lambda x : _multiply(x), axis=\"row\")"
   ]
  },
  {
   "cell_type": "code",
   "execution_count": 25,
   "metadata": {},
   "outputs": [
    {
     "data": {
      "text/plain": [
       "name                   info                 x\n",
       "---------------------  -----------------  ---\n",
       "Raghav                 idk                100\n",
       "Someone Else           Something else?    200\n",
       "Someone Else Too       Something else??   300\n",
       "Someone Else Here Too  Something else??!  400"
      ]
     },
     "execution_count": 25,
     "metadata": {},
     "output_type": "execute_result"
    }
   ],
   "source": [
    "df.head()"
   ]
  },
  {
   "cell_type": "markdown",
   "metadata": {},
   "source": [
    "## pnguin also makes filtering rows possible"
   ]
  },
  {
   "cell_type": "code",
   "execution_count": 26,
   "metadata": {},
   "outputs": [],
   "source": [
    "filtered = df.filter(pg.Filter(\"x\", \">=\", 300))"
   ]
  },
  {
   "cell_type": "code",
   "execution_count": 27,
   "metadata": {},
   "outputs": [
    {
     "data": {
      "text/plain": [
       "name                   info                 x\n",
       "---------------------  -----------------  ---\n",
       "Someone Else Too       Something else??   300\n",
       "Someone Else Here Too  Something else??!  400"
      ]
     },
     "execution_count": 27,
     "metadata": {},
     "output_type": "execute_result"
    }
   ],
   "source": [
    "filtered"
   ]
  },
  {
   "cell_type": "markdown",
   "metadata": {},
   "source": [
    "## DataFrames have indexed access (both via rows and columns)"
   ]
  },
  {
   "cell_type": "code",
   "execution_count": 28,
   "metadata": {},
   "outputs": [],
   "source": [
    "filtered[0] = {\"name\": \"Indexed Access\", \"info\": \"Here you go!\", \"x\": 1000}"
   ]
  },
  {
   "cell_type": "code",
   "execution_count": 29,
   "metadata": {},
   "outputs": [
    {
     "data": {
      "text/plain": [
       "name                   info                  x\n",
       "---------------------  -----------------  ----\n",
       "Indexed Access         Here you go!       1000\n",
       "Someone Else Here Too  Something else??!   400"
      ]
     },
     "execution_count": 29,
     "metadata": {},
     "output_type": "execute_result"
    }
   ],
   "source": [
    "filtered"
   ]
  },
  {
   "cell_type": "code",
   "execution_count": 30,
   "metadata": {},
   "outputs": [
    {
     "name": "stdout",
     "output_type": "stream",
     "text": [
      "Warning: Please use an integer value or an integer slice to select row(s) when your pnguin DataFrame is in row mode! Pnguin auto-handles this, but this could take a second for larger datasets\n"
     ]
    }
   ],
   "source": [
    "filtered[\"name\"] = [\"New Name 1\", \"New Name 2\"]"
   ]
  },
  {
   "cell_type": "code",
   "execution_count": 31,
   "metadata": {},
   "outputs": [
    {
     "data": {
      "text/plain": [
       "name        info                  x\n",
       "----------  -----------------  ----\n",
       "New Name 1  Here you go!       1000\n",
       "New Name 2  Something else??!   400"
      ]
     },
     "execution_count": 31,
     "metadata": {},
     "output_type": "execute_result"
    }
   ],
   "source": [
    "filtered"
   ]
  }
 ],
 "metadata": {
  "kernelspec": {
   "display_name": "Python 3",
   "language": "python",
   "name": "python3"
  },
  "language_info": {
   "codemirror_mode": {
    "name": "ipython",
    "version": 3
   },
   "file_extension": ".py",
   "mimetype": "text/x-python",
   "name": "python",
   "nbconvert_exporter": "python",
   "pygments_lexer": "ipython3",
   "version": "3.8.3"
  }
 },
 "nbformat": 4,
 "nbformat_minor": 4
}
