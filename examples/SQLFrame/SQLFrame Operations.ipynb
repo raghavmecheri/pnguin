{
 "cells": [
  {
   "cell_type": "markdown",
   "metadata": {},
   "source": [
    "# Operations on SQLFrames\n",
    "\n",
    "#### Good ol PYTHONPATH fix, details [here](https://stackoverflow.com/questions/16114391/adding-directory-to-sys-path-pythonpath)"
   ]
  },
  {
   "cell_type": "code",
   "execution_count": 1,
   "metadata": {},
   "outputs": [],
   "source": [
    "import sys\n",
    "import os\n",
    "sys.path.insert(0, os.path.join(os.getcwd(), \"../../\"))\n",
    "\n",
    "import pnguin as pg\n",
    "from pnguin.connectors import mysql_conn"
   ]
  },
  {
   "cell_type": "markdown",
   "metadata": {},
   "source": [
    "### Creating a MySQL connection with the default, localhost parameters.\n",
    "### The advisor table is populated with data from an old class I took :)"
   ]
  },
  {
   "cell_type": "code",
   "execution_count": 2,
   "metadata": {},
   "outputs": [],
   "source": [
    "sql_conn = mysql_conn()"
   ]
  },
  {
   "cell_type": "code",
   "execution_count": 3,
   "metadata": {},
   "outputs": [],
   "source": [
    "sf = pg.SQLFrame(connection=sql_conn, table_name=\"advisor\")"
   ]
  },
  {
   "cell_type": "markdown",
   "metadata": {},
   "source": [
    "### RemoteFrames perform manipulations via a database engine, so even if you get a DataFrame back, all your manipulations occur via the SQL engine!"
   ]
  },
  {
   "cell_type": "code",
   "execution_count": 4,
   "metadata": {},
   "outputs": [
    {
     "data": {
      "text/plain": [
       "  s_ID    i_ID\n",
       "------  ------\n",
       " 12345   10101\n",
       " 44553   22222\n",
       " 45678   22222\n",
       " 00128   45565\n",
       " 76543   45565"
      ]
     },
     "execution_count": 4,
     "metadata": {},
     "output_type": "execute_result"
    }
   ],
   "source": [
    "sf.head()"
   ]
  },
  {
   "cell_type": "code",
   "execution_count": 5,
   "metadata": {},
   "outputs": [
    {
     "data": {
      "text/plain": [
       "  s_ID    i_ID\n",
       "------  ------\n",
       " 12345   10101\n",
       " 44553   22222\n",
       " 45678   22222\n",
       " 00128   45565\n",
       " 76543   45565"
      ]
     },
     "execution_count": 5,
     "metadata": {},
     "output_type": "execute_result"
    }
   ],
   "source": [
    "sf.dropna()"
   ]
  },
  {
   "cell_type": "code",
   "execution_count": 6,
   "metadata": {},
   "outputs": [
    {
     "name": "stdout",
     "output_type": "stream",
     "text": [
      "Warning: This function call currently just invokes the pnguin.core.DataFrame class' apply function, and needs a facelift. If you'd like to give us a hand, please check out: https://github.com/raghavmecheri/pnguin/issues/9\n"
     ]
    },
    {
     "data": {
      "text/plain": [
       "  s_ID    i_ID\n",
       "------  ------\n",
       "     0       1\n",
       "     0       1\n",
       "     0       1\n",
       "     0       1\n",
       "     0       1"
      ]
     },
     "execution_count": 6,
     "metadata": {},
     "output_type": "execute_result"
    }
   ],
   "source": [
    "def apply_row(row):\n",
    "    return {\n",
    "        \"s_ID\": 0,\n",
    "        \"i_ID\": 1\n",
    "    }\n",
    "\n",
    "sf.apply(apply_row, axis=\"row\")"
   ]
  },
  {
   "cell_type": "code",
   "execution_count": null,
   "metadata": {},
   "outputs": [],
   "source": []
  }
 ],
 "metadata": {
  "kernelspec": {
   "display_name": "Python 3",
   "language": "python",
   "name": "python3"
  },
  "language_info": {
   "codemirror_mode": {
    "name": "ipython",
    "version": 3
   },
   "file_extension": ".py",
   "mimetype": "text/x-python",
   "name": "python",
   "nbconvert_exporter": "python",
   "pygments_lexer": "ipython3",
   "version": "3.8.3"
  }
 },
 "nbformat": 4,
 "nbformat_minor": 4
}
